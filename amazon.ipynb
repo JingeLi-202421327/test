{
 "cells": [
  {
   "cell_type": "code",
   "execution_count": null,
   "metadata": {},
   "outputs": [],
   "source": [
    "# Exercise 1: Work with the person next to you to design \n",
    "# classes to manage the products, customers, and purchase \n",
    "# orders for an online book store such as amazon.com. \n",
    "# Outline the data attributes and useful methods for \n",
    "# each class. You can discuss and create the outline together. \n",
    "\n",
    "class bookorder(object):\n",
    "    def __init__ (self, orderid, cusid, price, num, date):\n",
    "        self.cusid = cusid\n",
    "        self.price = price\n",
    "        self.num = num\n",
    "        self.date = date\n",
    "        self.orderid = orderid\n",
    "\n",
    "    def get_price():\n",
    "        return self.price"
   ]
  }
 ],
 "metadata": {
  "kernelspec": {
   "display_name": "base",
   "language": "python",
   "name": "python3"
  },
  "language_info": {
   "name": "python",
   "version": "3.12.4"
  }
 },
 "nbformat": 4,
 "nbformat_minor": 2
}
